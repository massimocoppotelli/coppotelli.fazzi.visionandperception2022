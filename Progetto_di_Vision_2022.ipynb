{
  "cells": [
    {
      "cell_type": "markdown",
      "source": [
        "Students:\n",
        "\n",
        "Enrico Fazzi - 2003876\n",
        "\n",
        "Massimo Coppotelli - 1705325"
      ],
      "metadata": {
        "id": "U3GOVePsLF4q"
      }
    },
    {
      "cell_type": "markdown",
      "source": [
        "# Vision project: Diabethic Retinopathy Detection and Classification\n"
      ],
      "metadata": {
        "id": "3EoopSr6Kifl"
      }
    },
    {
      "cell_type": "markdown",
      "metadata": {
        "id": "lj6Fkcm5RgQL"
      },
      "source": [
        "###Importing libraries"
      ]
    },
    {
      "cell_type": "code",
      "execution_count": null,
      "metadata": {
        "id": "TFhUe52nRg88",
        "colab": {
          "base_uri": "https://localhost:8080/",
          "height": 305
        },
        "outputId": "f8c3e0b2-ed48-430f-aaf8-827e8da6ed32"
      },
      "outputs": [
        {
          "output_type": "error",
          "ename": "KeyboardInterrupt",
          "evalue": "ignored",
          "traceback": [
            "\u001b[0;31m---------------------------------------------------------------------------\u001b[0m",
            "\u001b[0;31mKeyboardInterrupt\u001b[0m                         Traceback (most recent call last)",
            "\u001b[0;32m<ipython-input-1-1505f8ffe7e9>\u001b[0m in \u001b[0;36m<module>\u001b[0;34m\u001b[0m\n\u001b[1;32m      5\u001b[0m \u001b[0;32mfrom\u001b[0m \u001b[0mkeras_preprocessing\u001b[0m \u001b[0;32mimport\u001b[0m \u001b[0mimage\u001b[0m\u001b[0;34m\u001b[0m\u001b[0;34m\u001b[0m\u001b[0m\n\u001b[1;32m      6\u001b[0m \u001b[0;32mimport\u001b[0m \u001b[0mrandom\u001b[0m\u001b[0;34m\u001b[0m\u001b[0;34m\u001b[0m\u001b[0m\n\u001b[0;32m----> 7\u001b[0;31m \u001b[0;32mfrom\u001b[0m \u001b[0mtorchvision\u001b[0m \u001b[0;32mimport\u001b[0m \u001b[0mdatasets\u001b[0m\u001b[0;34m,\u001b[0m \u001b[0mtransforms\u001b[0m\u001b[0;34m,\u001b[0m \u001b[0mmodels\u001b[0m\u001b[0;34m\u001b[0m\u001b[0;34m\u001b[0m\u001b[0m\n\u001b[0m\u001b[1;32m      8\u001b[0m \u001b[0;32mimport\u001b[0m \u001b[0mmatplotlib\u001b[0m\u001b[0;34m.\u001b[0m\u001b[0mpyplot\u001b[0m \u001b[0;32mas\u001b[0m \u001b[0mplt\u001b[0m\u001b[0;34m\u001b[0m\u001b[0;34m\u001b[0m\u001b[0m\n\u001b[1;32m      9\u001b[0m \u001b[0;32mimport\u001b[0m \u001b[0mcv2\u001b[0m \u001b[0;32mas\u001b[0m \u001b[0mcv2\u001b[0m\u001b[0;34m\u001b[0m\u001b[0;34m\u001b[0m\u001b[0m\n",
            "\u001b[0;32m/usr/local/lib/python3.8/dist-packages/torchvision/__init__.py\u001b[0m in \u001b[0;36m<module>\u001b[0;34m\u001b[0m\n\u001b[1;32m      2\u001b[0m \u001b[0;32mimport\u001b[0m \u001b[0mwarnings\u001b[0m\u001b[0;34m\u001b[0m\u001b[0;34m\u001b[0m\u001b[0m\n\u001b[1;32m      3\u001b[0m \u001b[0;34m\u001b[0m\u001b[0m\n\u001b[0;32m----> 4\u001b[0;31m \u001b[0;32mimport\u001b[0m \u001b[0mtorch\u001b[0m\u001b[0;34m\u001b[0m\u001b[0;34m\u001b[0m\u001b[0m\n\u001b[0m\u001b[1;32m      5\u001b[0m \u001b[0;32mfrom\u001b[0m \u001b[0mtorchvision\u001b[0m \u001b[0;32mimport\u001b[0m \u001b[0mdatasets\u001b[0m\u001b[0;34m,\u001b[0m \u001b[0mio\u001b[0m\u001b[0;34m,\u001b[0m \u001b[0mmodels\u001b[0m\u001b[0;34m,\u001b[0m \u001b[0mops\u001b[0m\u001b[0;34m,\u001b[0m \u001b[0mtransforms\u001b[0m\u001b[0;34m,\u001b[0m \u001b[0mutils\u001b[0m\u001b[0;34m\u001b[0m\u001b[0;34m\u001b[0m\u001b[0m\n\u001b[1;32m      6\u001b[0m \u001b[0;34m\u001b[0m\u001b[0m\n",
            "\u001b[0;32m/usr/local/lib/python3.8/dist-packages/torch/__init__.py\u001b[0m in \u001b[0;36m<module>\u001b[0;34m\u001b[0m\n\u001b[1;32m    829\u001b[0m \u001b[0;34m\u001b[0m\u001b[0m\n\u001b[1;32m    830\u001b[0m \u001b[0;31m# needs to be after the above ATen bindings so we can overwrite from Python side\u001b[0m\u001b[0;34m\u001b[0m\u001b[0;34m\u001b[0m\u001b[0;34m\u001b[0m\u001b[0m\n\u001b[0;32m--> 831\u001b[0;31m \u001b[0;32mfrom\u001b[0m \u001b[0;34m.\u001b[0m\u001b[0mfunctional\u001b[0m \u001b[0;32mimport\u001b[0m \u001b[0;34m*\u001b[0m  \u001b[0;31m# noqa: F403\u001b[0m\u001b[0;34m\u001b[0m\u001b[0;34m\u001b[0m\u001b[0m\n\u001b[0m\u001b[1;32m    832\u001b[0m \u001b[0;34m\u001b[0m\u001b[0m\n\u001b[1;32m    833\u001b[0m \u001b[0;34m\u001b[0m\u001b[0m\n",
            "\u001b[0;32m/usr/local/lib/python3.8/dist-packages/torch/functional.py\u001b[0m in \u001b[0;36m<module>\u001b[0;34m\u001b[0m\n\u001b[1;32m      6\u001b[0m \u001b[0;32mfrom\u001b[0m \u001b[0mtorch\u001b[0m\u001b[0;34m.\u001b[0m\u001b[0m_C\u001b[0m \u001b[0;32mimport\u001b[0m \u001b[0m_add_docstr\u001b[0m\u001b[0;34m\u001b[0m\u001b[0;34m\u001b[0m\u001b[0m\n\u001b[1;32m      7\u001b[0m \u001b[0;32mimport\u001b[0m \u001b[0mtorch\u001b[0m\u001b[0;34m.\u001b[0m\u001b[0mbackends\u001b[0m\u001b[0;34m.\u001b[0m\u001b[0mopt_einsum\u001b[0m \u001b[0;32mas\u001b[0m \u001b[0mopt_einsum\u001b[0m\u001b[0;34m\u001b[0m\u001b[0;34m\u001b[0m\u001b[0m\n\u001b[0;32m----> 8\u001b[0;31m \u001b[0;32mimport\u001b[0m \u001b[0mtorch\u001b[0m\u001b[0;34m.\u001b[0m\u001b[0mnn\u001b[0m\u001b[0;34m.\u001b[0m\u001b[0mfunctional\u001b[0m \u001b[0;32mas\u001b[0m \u001b[0mF\u001b[0m\u001b[0;34m\u001b[0m\u001b[0;34m\u001b[0m\u001b[0m\n\u001b[0m\u001b[1;32m      9\u001b[0m \u001b[0;32mfrom\u001b[0m \u001b[0;34m.\u001b[0m\u001b[0m_lowrank\u001b[0m \u001b[0;32mimport\u001b[0m \u001b[0msvd_lowrank\u001b[0m\u001b[0;34m,\u001b[0m \u001b[0mpca_lowrank\u001b[0m\u001b[0;34m\u001b[0m\u001b[0;34m\u001b[0m\u001b[0m\n\u001b[1;32m     10\u001b[0m from .overrides import (\n",
            "\u001b[0;32m/usr/local/lib/python3.8/dist-packages/torch/nn/__init__.py\u001b[0m in \u001b[0;36m<module>\u001b[0;34m\u001b[0m\n\u001b[0;32m----> 1\u001b[0;31m \u001b[0;32mfrom\u001b[0m \u001b[0;34m.\u001b[0m\u001b[0mmodules\u001b[0m \u001b[0;32mimport\u001b[0m \u001b[0;34m*\u001b[0m  \u001b[0;31m# noqa: F403\u001b[0m\u001b[0;34m\u001b[0m\u001b[0;34m\u001b[0m\u001b[0m\n\u001b[0m\u001b[1;32m      2\u001b[0m from .parameter import (\n\u001b[1;32m      3\u001b[0m     \u001b[0mParameter\u001b[0m \u001b[0;32mas\u001b[0m \u001b[0mParameter\u001b[0m\u001b[0;34m,\u001b[0m\u001b[0;34m\u001b[0m\u001b[0;34m\u001b[0m\u001b[0m\n\u001b[1;32m      4\u001b[0m     \u001b[0mUninitializedParameter\u001b[0m \u001b[0;32mas\u001b[0m \u001b[0mUninitializedParameter\u001b[0m\u001b[0;34m,\u001b[0m\u001b[0;34m\u001b[0m\u001b[0;34m\u001b[0m\u001b[0m\n\u001b[1;32m      5\u001b[0m     \u001b[0mUninitializedBuffer\u001b[0m \u001b[0;32mas\u001b[0m \u001b[0mUninitializedBuffer\u001b[0m\u001b[0;34m,\u001b[0m\u001b[0;34m\u001b[0m\u001b[0;34m\u001b[0m\u001b[0m\n",
            "\u001b[0;32m/usr/local/lib/python3.8/dist-packages/torch/nn/modules/__init__.py\u001b[0m in \u001b[0;36m<module>\u001b[0;34m\u001b[0m\n\u001b[1;32m      1\u001b[0m \u001b[0;32mfrom\u001b[0m \u001b[0;34m.\u001b[0m\u001b[0mmodule\u001b[0m \u001b[0;32mimport\u001b[0m \u001b[0mModule\u001b[0m\u001b[0;34m\u001b[0m\u001b[0;34m\u001b[0m\u001b[0m\n\u001b[0;32m----> 2\u001b[0;31m \u001b[0;32mfrom\u001b[0m \u001b[0;34m.\u001b[0m\u001b[0mlinear\u001b[0m \u001b[0;32mimport\u001b[0m \u001b[0mIdentity\u001b[0m\u001b[0;34m,\u001b[0m \u001b[0mLinear\u001b[0m\u001b[0;34m,\u001b[0m \u001b[0mBilinear\u001b[0m\u001b[0;34m,\u001b[0m \u001b[0mLazyLinear\u001b[0m\u001b[0;34m\u001b[0m\u001b[0;34m\u001b[0m\u001b[0m\n\u001b[0m\u001b[1;32m      3\u001b[0m \u001b[0;32mfrom\u001b[0m \u001b[0;34m.\u001b[0m\u001b[0mconv\u001b[0m \u001b[0;32mimport\u001b[0m \u001b[0mConv1d\u001b[0m\u001b[0;34m,\u001b[0m \u001b[0mConv2d\u001b[0m\u001b[0;34m,\u001b[0m \u001b[0mConv3d\u001b[0m\u001b[0;34m,\u001b[0m\u001b[0;31m \u001b[0m\u001b[0;31m\\\u001b[0m\u001b[0;34m\u001b[0m\u001b[0;34m\u001b[0m\u001b[0m\n\u001b[1;32m      4\u001b[0m     \u001b[0mConvTranspose1d\u001b[0m\u001b[0;34m,\u001b[0m \u001b[0mConvTranspose2d\u001b[0m\u001b[0;34m,\u001b[0m \u001b[0mConvTranspose3d\u001b[0m\u001b[0;34m,\u001b[0m\u001b[0;31m \u001b[0m\u001b[0;31m\\\u001b[0m\u001b[0;34m\u001b[0m\u001b[0;34m\u001b[0m\u001b[0m\n\u001b[1;32m      5\u001b[0m     \u001b[0mLazyConv1d\u001b[0m\u001b[0;34m,\u001b[0m \u001b[0mLazyConv2d\u001b[0m\u001b[0;34m,\u001b[0m \u001b[0mLazyConv3d\u001b[0m\u001b[0;34m,\u001b[0m \u001b[0mLazyConvTranspose1d\u001b[0m\u001b[0;34m,\u001b[0m \u001b[0mLazyConvTranspose2d\u001b[0m\u001b[0;34m,\u001b[0m \u001b[0mLazyConvTranspose3d\u001b[0m\u001b[0;34m\u001b[0m\u001b[0;34m\u001b[0m\u001b[0m\n",
            "\u001b[0;32m/usr/local/lib/python3.8/dist-packages/torch/nn/modules/linear.py\u001b[0m in \u001b[0;36m<module>\u001b[0;34m\u001b[0m\n\u001b[1;32m      5\u001b[0m \u001b[0;32mfrom\u001b[0m \u001b[0mtorch\u001b[0m \u001b[0;32mimport\u001b[0m \u001b[0mTensor\u001b[0m\u001b[0;34m\u001b[0m\u001b[0;34m\u001b[0m\u001b[0m\n\u001b[1;32m      6\u001b[0m \u001b[0;32mfrom\u001b[0m \u001b[0mtorch\u001b[0m\u001b[0;34m.\u001b[0m\u001b[0mnn\u001b[0m\u001b[0;34m.\u001b[0m\u001b[0mparameter\u001b[0m \u001b[0;32mimport\u001b[0m \u001b[0mParameter\u001b[0m\u001b[0;34m,\u001b[0m \u001b[0mUninitializedParameter\u001b[0m\u001b[0;34m\u001b[0m\u001b[0;34m\u001b[0m\u001b[0m\n\u001b[0;32m----> 7\u001b[0;31m \u001b[0;32mfrom\u001b[0m \u001b[0;34m.\u001b[0m\u001b[0;34m.\u001b[0m \u001b[0;32mimport\u001b[0m \u001b[0mfunctional\u001b[0m \u001b[0;32mas\u001b[0m \u001b[0mF\u001b[0m\u001b[0;34m\u001b[0m\u001b[0;34m\u001b[0m\u001b[0m\n\u001b[0m\u001b[1;32m      8\u001b[0m \u001b[0;32mfrom\u001b[0m \u001b[0;34m.\u001b[0m\u001b[0;34m.\u001b[0m \u001b[0;32mimport\u001b[0m \u001b[0minit\u001b[0m\u001b[0;34m\u001b[0m\u001b[0;34m\u001b[0m\u001b[0m\n\u001b[1;32m      9\u001b[0m \u001b[0;32mfrom\u001b[0m \u001b[0;34m.\u001b[0m\u001b[0mmodule\u001b[0m \u001b[0;32mimport\u001b[0m \u001b[0mModule\u001b[0m\u001b[0;34m\u001b[0m\u001b[0;34m\u001b[0m\u001b[0m\n",
            "\u001b[0;32m/usr/local/lib/python3.8/dist-packages/torch/nn/functional.py\u001b[0m in \u001b[0;36m<module>\u001b[0;34m\u001b[0m\n\u001b[1;32m     16\u001b[0m     \u001b[0mDType\u001b[0m \u001b[0;34m=\u001b[0m \u001b[0mint\u001b[0m\u001b[0;34m\u001b[0m\u001b[0;34m\u001b[0m\u001b[0m\n\u001b[1;32m     17\u001b[0m \u001b[0;34m\u001b[0m\u001b[0m\n\u001b[0;32m---> 18\u001b[0;31m \u001b[0;32mfrom\u001b[0m \u001b[0;34m.\u001b[0m\u001b[0;34m.\u001b[0m\u001b[0m_jit_internal\u001b[0m \u001b[0;32mimport\u001b[0m \u001b[0mboolean_dispatch\u001b[0m\u001b[0;34m,\u001b[0m \u001b[0m_overload\u001b[0m\u001b[0;34m,\u001b[0m \u001b[0mBroadcastingList1\u001b[0m\u001b[0;34m,\u001b[0m \u001b[0mBroadcastingList2\u001b[0m\u001b[0;34m,\u001b[0m \u001b[0mBroadcastingList3\u001b[0m\u001b[0;34m\u001b[0m\u001b[0;34m\u001b[0m\u001b[0m\n\u001b[0m\u001b[1;32m     19\u001b[0m from ..overrides import (\n\u001b[1;32m     20\u001b[0m     \u001b[0mhas_torch_function\u001b[0m\u001b[0;34m,\u001b[0m \u001b[0mhas_torch_function_unary\u001b[0m\u001b[0;34m,\u001b[0m \u001b[0mhas_torch_function_variadic\u001b[0m\u001b[0;34m,\u001b[0m\u001b[0;34m\u001b[0m\u001b[0;34m\u001b[0m\u001b[0m\n",
            "\u001b[0;32m/usr/local/lib/python3.8/dist-packages/torch/_jit_internal.py\u001b[0m in \u001b[0;36m<module>\u001b[0;34m\u001b[0m\n\u001b[1;32m     37\u001b[0m \u001b[0;31m# Explicitly ask to import `torch.distributed.__init__` first.\u001b[0m\u001b[0;34m\u001b[0m\u001b[0;34m\u001b[0m\u001b[0;34m\u001b[0m\u001b[0m\n\u001b[1;32m     38\u001b[0m \u001b[0;31m# Otherwise, \"AttributeError: module 'torch' has no attribute 'distributed'\" is raised.\u001b[0m\u001b[0;34m\u001b[0m\u001b[0;34m\u001b[0m\u001b[0;34m\u001b[0m\u001b[0m\n\u001b[0;32m---> 39\u001b[0;31m \u001b[0;32mimport\u001b[0m \u001b[0mtorch\u001b[0m\u001b[0;34m.\u001b[0m\u001b[0mdistributed\u001b[0m\u001b[0;34m.\u001b[0m\u001b[0mrpc\u001b[0m\u001b[0;34m\u001b[0m\u001b[0;34m\u001b[0m\u001b[0m\n\u001b[0m\u001b[1;32m     40\u001b[0m \u001b[0;32mimport\u001b[0m \u001b[0mtorch\u001b[0m\u001b[0;34m.\u001b[0m\u001b[0mpackage\u001b[0m\u001b[0;34m.\u001b[0m\u001b[0m_mangling\u001b[0m \u001b[0;32mas\u001b[0m \u001b[0mpackage_mangling\u001b[0m\u001b[0;34m\u001b[0m\u001b[0;34m\u001b[0m\u001b[0m\n\u001b[1;32m     41\u001b[0m \u001b[0;32mfrom\u001b[0m \u001b[0mtorch\u001b[0m\u001b[0;34m.\u001b[0m\u001b[0m_C\u001b[0m \u001b[0;32mimport\u001b[0m \u001b[0mFuture\u001b[0m \u001b[0;32mas\u001b[0m \u001b[0mCFuture\u001b[0m\u001b[0;34m\u001b[0m\u001b[0;34m\u001b[0m\u001b[0m\n",
            "\u001b[0;32m/usr/local/lib/python3.8/dist-packages/torch/distributed/rpc/__init__.py\u001b[0m in \u001b[0;36m<module>\u001b[0;34m\u001b[0m\n\u001b[1;32m     64\u001b[0m     )  # noqa: F401\n\u001b[1;32m     65\u001b[0m \u001b[0;34m\u001b[0m\u001b[0m\n\u001b[0;32m---> 66\u001b[0;31m     \u001b[0;32mfrom\u001b[0m \u001b[0;34m.\u001b[0m \u001b[0;32mimport\u001b[0m \u001b[0mapi\u001b[0m\u001b[0;34m,\u001b[0m \u001b[0mbackend_registry\u001b[0m\u001b[0;34m,\u001b[0m \u001b[0mfunctions\u001b[0m\u001b[0;34m\u001b[0m\u001b[0;34m\u001b[0m\u001b[0m\n\u001b[0m\u001b[1;32m     67\u001b[0m     \u001b[0;32mfrom\u001b[0m \u001b[0;34m.\u001b[0m\u001b[0mapi\u001b[0m \u001b[0;32mimport\u001b[0m \u001b[0;34m*\u001b[0m  \u001b[0;31m# noqa: F401,F403\u001b[0m\u001b[0;34m\u001b[0m\u001b[0;34m\u001b[0m\u001b[0m\n\u001b[1;32m     68\u001b[0m     \u001b[0;32mimport\u001b[0m \u001b[0mnumbers\u001b[0m\u001b[0;34m\u001b[0m\u001b[0;34m\u001b[0m\u001b[0m\n",
            "\u001b[0;32m/usr/local/lib/python3.8/dist-packages/torch/distributed/rpc/api.py\u001b[0m in \u001b[0;36m<module>\u001b[0;34m\u001b[0m\n\u001b[1;32m     11\u001b[0m \u001b[0;34m\u001b[0m\u001b[0m\n\u001b[1;32m     12\u001b[0m \u001b[0;32mimport\u001b[0m \u001b[0mtorch\u001b[0m\u001b[0;34m\u001b[0m\u001b[0;34m\u001b[0m\u001b[0m\n\u001b[0;32m---> 13\u001b[0;31m \u001b[0;32mfrom\u001b[0m \u001b[0mtorch\u001b[0m\u001b[0;34m.\u001b[0m\u001b[0mfutures\u001b[0m \u001b[0;32mimport\u001b[0m \u001b[0mFuture\u001b[0m\u001b[0;34m\u001b[0m\u001b[0;34m\u001b[0m\u001b[0m\n\u001b[0m\u001b[1;32m     14\u001b[0m \u001b[0;34m\u001b[0m\u001b[0m\n\u001b[1;32m     15\u001b[0m from torch._C._distributed_rpc import (\n",
            "\u001b[0;32m/usr/lib/python3.8/importlib/_bootstrap.py\u001b[0m in \u001b[0;36m_find_and_load\u001b[0;34m(name, import_)\u001b[0m\n",
            "\u001b[0;32m/usr/lib/python3.8/importlib/_bootstrap.py\u001b[0m in \u001b[0;36m_find_and_load_unlocked\u001b[0;34m(name, import_)\u001b[0m\n",
            "\u001b[0;32m/usr/lib/python3.8/importlib/_bootstrap.py\u001b[0m in \u001b[0;36m_load_unlocked\u001b[0;34m(spec)\u001b[0m\n",
            "\u001b[0;32m/usr/lib/python3.8/importlib/_bootstrap_external.py\u001b[0m in \u001b[0;36mexec_module\u001b[0;34m(self, module)\u001b[0m\n",
            "\u001b[0;32m/usr/lib/python3.8/importlib/_bootstrap_external.py\u001b[0m in \u001b[0;36mget_code\u001b[0;34m(self, fullname)\u001b[0m\n",
            "\u001b[0;32m/usr/lib/python3.8/importlib/_bootstrap_external.py\u001b[0m in \u001b[0;36mget_data\u001b[0;34m(self, path)\u001b[0m\n",
            "\u001b[0;31mKeyboardInterrupt\u001b[0m: "
          ]
        }
      ],
      "source": [
        "import pandas as pd \n",
        "import os \n",
        "import numpy as np \n",
        "from tqdm import tqdm\n",
        "from keras_preprocessing import image\n",
        "import random\n",
        "from torchvision import datasets, transforms, models\n",
        "import matplotlib.pyplot as plt\n",
        "import cv2 as cv2\n",
        "from skimage import io\n",
        "\n",
        "\n",
        "from torch.utils import data  \n",
        "import torch \n",
        "from torch import nn \n",
        "from torch import optim \n",
        "import torchvision  \n",
        "import torch.nn.functional as F \n",
        "from torchvision import datasets, transforms, models\n",
        "from torchvision.utils import save_image\n",
        "import torchvision.models as models \n",
        "from torch.utils.data.sampler import SubsetRandomSampler \n",
        "from torch.utils.data import Dataset, DataLoader \n",
        "from torch.optim import lr_scheduler \n",
        "from sklearn.metrics import f1_score\n",
        "\n",
        "import time\n",
        "from joblib import Parallel, delayed\n",
        "import joblib\n",
        "\n",
        "from PIL import Image "
      ]
    },
    {
      "cell_type": "markdown",
      "metadata": {
        "id": "eKb73MHUWVLC"
      },
      "source": [
        "### Loading Data"
      ]
    },
    {
      "cell_type": "code",
      "execution_count": null,
      "metadata": {
        "colab": {
          "base_uri": "https://localhost:8080/"
        },
        "id": "-Ajfjrt8QbLm",
        "outputId": "51533fdd-00a6-4829-fe13-2cca8f2f52ca"
      },
      "outputs": [
        {
          "output_type": "stream",
          "name": "stdout",
          "text": [
            "Mounted at /content/drive\n"
          ]
        }
      ],
      "source": [
        "# importing data from drive\n",
        "\n",
        "from google.colab import drive\n",
        "drive.mount('/content/drive')\n",
        "train_csv = pd.read_csv('/content/drive/My Drive/VP/train.csv')\n",
        "\n",
        "\n",
        "base_dir = \"/content/drive/My Drive/VP\""
      ]
    },
    {
      "cell_type": "code",
      "execution_count": null,
      "metadata": {
        "id": "nAv9hBorDNtn"
      },
      "outputs": [],
      "source": [
        "# initialization of the dataset we will work on\n",
        "\n",
        "class OurDataset (Dataset): \n",
        "  def __init__(self,csv_values,root_dir = '/content/drive/My Drive', transform= None):\n",
        "    super().__init__()\n",
        "    self.values =csv_values.values\n",
        "    self.root_dir = root_dir\n",
        "    self.transform = transform\n",
        "\n",
        "  def __len__(self):\n",
        "    return len(self.values)\n",
        "\n",
        "  def  __getitem__(self,index):\n",
        "    img_name,label = self.values[index]\n",
        "    img_path = os.path.join (self.root_dir, img_name+'.png')\n",
        "    image = cv2.imread(img_path)\n",
        "\n",
        "    if self.transform is not None:\n",
        "      image = self.transform(image)\n",
        "\n",
        "    return image,label "
      ]
    },
    {
      "cell_type": "markdown",
      "metadata": {
        "id": "jhoxpqd8c5Nm"
      },
      "source": [
        "### Data Processing"
      ]
    },
    {
      "cell_type": "markdown",
      "metadata": {
        "id": "ac_H8fshQShq"
      },
      "source": [
        "Definition of training set and image transformations"
      ]
    },
    {
      "cell_type": "code",
      "execution_count": null,
      "metadata": {
        "id": "YDF9QW7EqaKQ"
      },
      "outputs": [],
      "source": [
        "train_transforms = transforms.Compose([\n",
        "    transforms.ToPILImage(), # all transformations work on this format\n",
        "    transforms.Resize((224, 224)),\n",
        "    transforms.RandomHorizontalFlip(p=0.25),\n",
        "    transforms.ColorJitter(brightness=0.25, contrast=0.1),\n",
        "    #transforms.RandomRotation(degrees=20),\n",
        "    #transforms.RandomVerticalFlip(p=0.1),\n",
        "    transforms.RandomGrayscale(p = 0.2),\n",
        "    transforms.ToTensor(),\n",
        "    transforms.Normalize(mean=(0.485, 0.456, 0.406), std=(0.229, 0.224, 0.225)) # (val - mean) / std\n",
        "])"
      ]
    },
    {
      "cell_type": "code",
      "execution_count": null,
      "metadata": {
        "id": "dl-GYMqrFMpt"
      },
      "outputs": [],
      "source": [
        "train_dataset = OurDataset (csv_values = train_csv, root_dir = '/content/drive/My Drive/VP/train_images/', transform = train_transforms)"
      ]
    },
    {
      "cell_type": "markdown",
      "metadata": {
        "id": "ghh-XM_XrZbm"
      },
      "source": [
        "### Validation set"
      ]
    },
    {
      "cell_type": "code",
      "execution_count": null,
      "metadata": {
        "id": "K-ejMVPf3l0c"
      },
      "outputs": [],
      "source": [
        "#splitting the training set in this way: 0.6 train, 0.2 valid, 0.2 test\n",
        "\n",
        "valid_size = 0.2 #valid size is equal to test size\n",
        "num_train = len(train_dataset) \n",
        "indices = list(range(num_train)) #creates a list within the range of the number of training\n",
        "np.random.shuffle(indices) # it reorders randomly the indices in the list\n",
        "split1 = int(np.floor(valid_size * num_train))    # split is an integer values, floor(x) è la parte intera di x\n",
        "split2 = 2*split1\n",
        "train_idx, valid_idx, test_idx = indices[split2:], indices[split1:split2], indices[:split1]   # divides the two sets in training and validation according to split"
      ]
    },
    {
      "cell_type": "markdown",
      "source": [
        "### Defining the three sets we will use to train and test our models"
      ],
      "metadata": {
        "id": "sBMkXA7pOlrh"
      }
    },
    {
      "cell_type": "code",
      "execution_count": null,
      "metadata": {
        "id": "xlc5iSVnbaOr"
      },
      "outputs": [],
      "source": [
        "batch_size=64\n",
        "train_sampler = SubsetRandomSampler(train_idx)\n",
        "valid_sampler = SubsetRandomSampler(valid_idx)\n",
        "test_sampler = SubsetRandomSampler(test_idx)"
      ]
    },
    {
      "cell_type": "code",
      "execution_count": null,
      "metadata": {
        "id": "tMwx-Bo3bBOR"
      },
      "outputs": [],
      "source": [
        "train_loader = torch.utils.data.DataLoader(train_dataset, batch_size = batch_size, sampler=train_sampler, shuffle = False)\n",
        "valid_loader = torch.utils.data.DataLoader(train_dataset, batch_size = batch_size, sampler=valid_sampler)\n",
        "test_loader  = torch.utils.data.DataLoader(train_dataset, batch_size = batch_size, sampler=test_sampler)"
      ]
    },
    {
      "cell_type": "markdown",
      "metadata": {
        "id": "2VGUUwZ_XpoP"
      },
      "source": [
        "## Importing architectures"
      ]
    },
    {
      "cell_type": "code",
      "execution_count": null,
      "metadata": {
        "colab": {
          "base_uri": "https://localhost:8080/"
        },
        "id": "xzL9lEIiXsK3",
        "outputId": "1b154771-e727-4b34-e730-1aa6a03d44ee"
      },
      "outputs": [
        {
          "output_type": "stream",
          "name": "stdout",
          "text": [
            "CUDA is available! Training on GPU ...\n"
          ]
        }
      ],
      "source": [
        "# working on GPU\n",
        "\n",
        "train_on_gpu = torch.cuda.is_available()\n",
        "\n",
        "if not train_on_gpu:\n",
        "  print('CUDA is not available. Training on CPU ...')\n",
        "else:\n",
        "  print('CUDA is available! Training on GPU ...')\n",
        "\n",
        "device = torch.device(\"cuda\" if torch.cuda.is_available() else \"cpu\")"
      ]
    },
    {
      "cell_type": "markdown",
      "metadata": {
        "id": "p78922aP1e_7"
      },
      "source": [
        "#### Resnet 152\n"
      ]
    },
    {
      "cell_type": "code",
      "execution_count": null,
      "metadata": {
        "id": "sxgX01vQYBy3"
      },
      "outputs": [],
      "source": [
        "device = torch.device(\"cuda\" if torch.cuda.is_available() else \"cpu\")\n",
        "\n",
        "model = models.resnet152(pretrained=True) # we are using a resnet152\n",
        "num_ftrs = model.fc.in_features # with preset features\n",
        "out_ftrs = 5 # and 5 output features corresponding to the 5 classes\n",
        "\n",
        "# we will use a sequential fully connected network defined here\n",
        "\n",
        "model.fc = nn.Sequential(nn.Linear(num_ftrs, 512),nn.ReLU(),nn.Linear(512,out_ftrs),nn.LogSoftmax(dim=1)) #linear classifier\n",
        "\n",
        "#model = joblib.load('/content/drive/MyDrive/VP/model.pkl') ###uncomment when already working with a fine-tuned ResNet\n",
        "\n",
        "criterion = nn.NLLLoss() # negative log likelyhood loss function, useful for class. problems\n",
        "optimizer = torch.optim.Adam(filter(lambda p:p.requires_grad,model.parameters()) , lr = 0.0001,weight_decay=0.05)  # Adam optimizer stochastic gradient descent\n",
        "\n",
        "scheduler = lr_scheduler.StepLR(optimizer, step_size=5, gamma=0.1) # adaptive learning rate\n",
        "model.to(device);\n",
        "\n"
      ]
    },
    {
      "cell_type": "code",
      "execution_count": null,
      "metadata": {
        "id": "xf7t_BAl-aYW"
      },
      "outputs": [],
      "source": [
        "#save the model to re-use it\n",
        "\n",
        "model_save_name = \"classifier.pt\"\n",
        "path = F\"/content/drive/My Drive/VP/{model_save_name}\""
      ]
    },
    {
      "cell_type": "code",
      "execution_count": null,
      "metadata": {
        "colab": {
          "base_uri": "https://localhost:8080/"
        },
        "id": "7EkgYnTfuCsq",
        "outputId": "5c0b27ef-a667-43e7-c917-d413901902be"
      },
      "outputs": [
        {
          "output_type": "stream",
          "name": "stdout",
          "text": [
            "conv1is frozen\n",
            "bn1is frozen\n",
            "reluis frozen\n",
            "maxpoolis frozen\n",
            "layer1is frozen\n",
            "layer2is unfrozen\n",
            "layer3is unfrozen\n",
            "layer4is unfrozen\n",
            "avgpoolis frozen\n",
            "fcis unfrozen\n"
          ]
        }
      ],
      "source": [
        "# to unfreeze more layers --- Fine-tuning\n",
        "\n",
        "for name,child in model.named_children():\n",
        "  if name in ['layer2','layer3','layer4','fc']:\n",
        "    print(name + 'is unfrozen')\n",
        "    for param in child.parameters():\n",
        "      param.requires_grad = True\n",
        "  else:\n",
        "    print(name + 'is frozen')\n",
        "    for param in child.parameters():\n",
        "      param.requires_grad = False\n",
        "\n",
        "optimizer = torch.optim.Adam(filter(lambda p:p.requires_grad,model.parameters()) , lr = 0.0001, weight_decay=0.05)  # Adam optimizer stochastic gradient descent\n",
        "lambda1 = lambda epoch: 0.65 ** epoch\n",
        "scheduler = torch.optim.lr_scheduler.LambdaLR(optimizer, lr_lambda=lambda1)"
      ]
    },
    {
      "cell_type": "markdown",
      "metadata": {
        "id": "vZLhWfQQ2mHI"
      },
      "source": [
        "#### GoogleNet"
      ]
    },
    {
      "cell_type": "code",
      "execution_count": null,
      "metadata": {
        "id": "BFWSb_6BWRCO"
      },
      "outputs": [],
      "source": [
        "device = torch.device(\"cuda\" if torch.cuda.is_available() else \"cpu\")\n",
        "\n",
        "model = models.googlenet(pretrained=True) # we are using a GoogleNet\n",
        "dropout= 0.1 #set dropout\n",
        "num_ftrs = model.fc.in_features # with preset features\n",
        "out_ftrs = 5 # and 5 output features corresponding to the 5 classes\n",
        "\n",
        "# we will use a sequential fully connected network defined here\n",
        "\n",
        "model.fc = nn.Sequential(nn.Linear(num_ftrs, 1024),nn.ReLU(),nn.Linear(1024, out_ftrs),nn.LogSoftmax(dim=1))\n",
        "\n",
        "criterion = nn.NLLLoss() # negative log likelyhood loss function, useful for class. problems\n",
        "optimizer = torch.optim.Adam(filter(lambda p:p.requires_grad,model.parameters()) , lr = 0.01, weight_decay=0.01)  # Adam optimizer stochastic gradient descent\n",
        "\n",
        "scheduler = lr_scheduler.StepLR(optimizer, step_size=5, gamma=0.1) # adaptive learning rate\n",
        "model.to(device);\n"
      ]
    },
    {
      "cell_type": "code",
      "source": [
        "#save the model to re-use it\n",
        "\n",
        "model_save_name = \"classifier.pt\"\n",
        "path = F\"/content/drive/My Drive/VP/{model_save_name}\""
      ],
      "metadata": {
        "id": "mFePWb5AP1X6"
      },
      "execution_count": null,
      "outputs": []
    },
    {
      "cell_type": "code",
      "source": [
        "# to unfreeze more layers --- Fine-tuning the model\n",
        "\n",
        "for name,child in model.named_children():\n",
        "  if name in ['inception5a','inception5b','avgpool','dropout','fc']:\n",
        "    print(name + 'is unfrozen')\n",
        "    for param in child.parameters():\n",
        "      param.requires_grad = True\n",
        "  else:\n",
        "    print(name + 'is frozen')\n",
        "    for param in child.parameters():\n",
        "      param.requires_grad = False\n",
        "\n",
        "optimizer = torch.optim.Adam(filter(lambda p:p.requires_grad,model.parameters()) , lr = 0.01)  # Adam optimizer stochastic gradient descent\n",
        "lambda1 = lambda epoch: 0.65 ** epoch\n",
        "scheduler = torch.optim.lr_scheduler.LambdaLR(optimizer, lr_lambda=lambda1)"
      ],
      "metadata": {
        "id": "yRuoUfebP3mz"
      },
      "execution_count": null,
      "outputs": []
    },
    {
      "cell_type": "code",
      "execution_count": null,
      "metadata": {
        "id": "OEu7pUryEFmF"
      },
      "outputs": [],
      "source": [
        "#printing the model\n",
        "model "
      ]
    },
    {
      "cell_type": "markdown",
      "metadata": {
        "id": "Vbs9kAFa2tOS"
      },
      "source": [
        "#### EfficientNet"
      ]
    },
    {
      "cell_type": "code",
      "execution_count": 1,
      "metadata": {
        "colab": {
          "base_uri": "https://localhost:8080/"
        },
        "id": "CkIxolTol2cZ",
        "outputId": "e01bf578-39ca-4dd7-c728-cc9109f7221b"
      },
      "outputs": [
        {
          "output_type": "stream",
          "name": "stdout",
          "text": [
            "Looking in indexes: https://pypi.org/simple, https://us-python.pkg.dev/colab-wheels/public/simple/\n",
            "Collecting efficientnet_pytorch\n",
            "  Downloading efficientnet_pytorch-0.7.1.tar.gz (21 kB)\n",
            "  Preparing metadata (setup.py) ... \u001b[?25l\u001b[?25hdone\n",
            "Requirement already satisfied: torch in /usr/local/lib/python3.8/dist-packages (from efficientnet_pytorch) (1.13.1+cu116)\n",
            "Requirement already satisfied: typing-extensions in /usr/local/lib/python3.8/dist-packages (from torch->efficientnet_pytorch) (4.4.0)\n",
            "Building wheels for collected packages: efficientnet_pytorch\n",
            "  Building wheel for efficientnet_pytorch (setup.py) ... \u001b[?25l\u001b[?25hdone\n",
            "  Created wheel for efficientnet_pytorch: filename=efficientnet_pytorch-0.7.1-py3-none-any.whl size=16446 sha256=87c00ee254ab163966d6f37d9a1dd98e6ffc5ada404c690674ee2a604d236350\n",
            "  Stored in directory: /root/.cache/pip/wheels/84/b9/90/25a0195cf95fb5533db96f1c77ea3f296b7cc86ae8ae48e3dc\n",
            "Successfully built efficientnet_pytorch\n",
            "Installing collected packages: efficientnet_pytorch\n",
            "Successfully installed efficientnet_pytorch-0.7.1\n"
          ]
        }
      ],
      "source": [
        "# installing the architecture \n",
        "\n",
        "!pip install efficientnet_pytorch"
      ]
    },
    {
      "cell_type": "code",
      "execution_count": 2,
      "metadata": {
        "colab": {
          "base_uri": "https://localhost:8080/",
          "height": 248
        },
        "id": "FJ1-rkR00kOd",
        "outputId": "cff91873-4862-47ee-bfcb-7d69b48564f2"
      },
      "outputs": [
        {
          "output_type": "error",
          "ename": "NameError",
          "evalue": "ignored",
          "traceback": [
            "\u001b[0;31m---------------------------------------------------------------------------\u001b[0m",
            "\u001b[0;31mNameError\u001b[0m                                 Traceback (most recent call last)",
            "\u001b[0;32m<ipython-input-2-c5cabacba048>\u001b[0m in \u001b[0;36m<module>\u001b[0;34m\u001b[0m\n\u001b[1;32m      2\u001b[0m \u001b[0;32mfrom\u001b[0m \u001b[0mefficientnet_pytorch\u001b[0m \u001b[0;32mimport\u001b[0m \u001b[0mEfficientNet\u001b[0m\u001b[0;34m\u001b[0m\u001b[0;34m\u001b[0m\u001b[0m\n\u001b[1;32m      3\u001b[0m \u001b[0;34m\u001b[0m\u001b[0m\n\u001b[0;32m----> 4\u001b[0;31m \u001b[0mmodel\u001b[0m \u001b[0;34m=\u001b[0m \u001b[0mEfficientNet\u001b[0m\u001b[0;34m.\u001b[0m\u001b[0mfrom_pretrained\u001b[0m\u001b[0;34m(\u001b[0m\u001b[0;34m'efficientnet-b7'\u001b[0m\u001b[0;34m,\u001b[0m \u001b[0mnum_classes\u001b[0m\u001b[0;34m=\u001b[0m\u001b[0mout_ftrs\u001b[0m\u001b[0;34m)\u001b[0m\u001b[0;34m\u001b[0m\u001b[0;34m\u001b[0m\u001b[0m\n\u001b[0m\u001b[1;32m      5\u001b[0m \u001b[0;34m\u001b[0m\u001b[0m\n\u001b[1;32m      6\u001b[0m \u001b[0mdevice\u001b[0m \u001b[0;34m=\u001b[0m \u001b[0mtorch\u001b[0m\u001b[0;34m.\u001b[0m\u001b[0mdevice\u001b[0m\u001b[0;34m(\u001b[0m\u001b[0;34m\"cuda\"\u001b[0m \u001b[0;32mif\u001b[0m \u001b[0mtorch\u001b[0m\u001b[0;34m.\u001b[0m\u001b[0mcuda\u001b[0m\u001b[0;34m.\u001b[0m\u001b[0mis_available\u001b[0m\u001b[0;34m(\u001b[0m\u001b[0;34m)\u001b[0m \u001b[0;32melse\u001b[0m \u001b[0;34m\"cpu\"\u001b[0m\u001b[0;34m)\u001b[0m\u001b[0;34m\u001b[0m\u001b[0;34m\u001b[0m\u001b[0m\n",
            "\u001b[0;31mNameError\u001b[0m: name 'out_ftrs' is not defined"
          ]
        }
      ],
      "source": [
        "# importing EfficientNet-b7\n",
        "from efficientnet_pytorch import EfficientNet\n",
        "\n",
        "model = EfficientNet.from_pretrained('efficientnet-b7', num_classes=out_ftrs)\n",
        "\n",
        "device = torch.device(\"cuda\" if torch.cuda.is_available() else \"cpu\")\n",
        "\n",
        "out_ftrs = 5 #5 output features corresponding to the 5 classes\n",
        "\n",
        "\n",
        "dropout= 0.01\n",
        "num_ftrs =  model._fc.in_features \n",
        "\n",
        "# defining the fully connected layers-- Final Classifier\n",
        "\n",
        "model._fc = nn.Sequential(nn.Linear(num_ftrs, 1280),nn.Linear(1280, out_ftrs),nn.LogSoftmax(dim=1)) \n",
        "\n",
        "\n",
        "\n",
        "criterion = nn.NLLLoss() # negative log likelyhood loss function, useful for class. problems\n",
        "optimizer = torch.optim.Adam(filter(lambda p:p.requires_grad,model.parameters()) , lr = 0.01, weight_decay = 0.01)  # Adam optimizer stochastic gradient descent\n",
        "\n",
        "scheduler = lr_scheduler.StepLR(optimizer, step_size=5, gamma=0.1) # adaptive learning rate\n",
        "model.to(device);\n"
      ]
    },
    {
      "cell_type": "code",
      "source": [
        "#save the model to re-use it\n",
        "\n",
        "model_save_name = \"classifier.pt\"\n",
        "path = F\"/content/drive/My Drive/VP/{model_save_name}\""
      ],
      "metadata": {
        "id": "QWOfJLCnQvd1"
      },
      "execution_count": null,
      "outputs": []
    },
    {
      "cell_type": "code",
      "source": [
        "# to unfreeze more layers --- Fine-tuning\n",
        "\n",
        "for name,child in model.named_children():\n",
        "  if name in ['_fc','_swish']:\n",
        "    print(name + 'is unfrozen')\n",
        "    for param in child.parameters():\n",
        "      param.requires_grad = True\n",
        "  else:\n",
        "    print(name + 'is frozen')\n",
        "    for param in child.parameters():\n",
        "      param.requires_grad = False\n",
        "\n",
        "\n",
        "optimizer = torch.optim.Adam(filter(lambda p:p.requires_grad,model.parameters()) , lr = 0.01, weight_decay = 0.01)  # Adam optimizer stochastic gradient descent\n",
        "lambda1 = lambda epoch: 0.65 ** epoch\n",
        "scheduler = torch.optim.lr_scheduler.LambdaLR(optimizer, lr_lambda=lambda1)"
      ],
      "metadata": {
        "id": "yOEHRABcQp57"
      },
      "execution_count": null,
      "outputs": []
    },
    {
      "cell_type": "code",
      "execution_count": null,
      "metadata": {
        "id": "LC9re3PY14wO"
      },
      "outputs": [],
      "source": [
        "# outputting the whole model\n",
        "model"
      ]
    },
    {
      "cell_type": "markdown",
      "source": [
        "### Loading the model"
      ],
      "metadata": {
        "id": "fryXh6dufNUy"
      }
    },
    {
      "cell_type": "code",
      "execution_count": null,
      "metadata": {
        "id": "tyM3duF311lj"
      },
      "outputs": [],
      "source": [
        "# to resume the model training later\n",
        "\n",
        "def load_model(path):\n",
        "  checkpoint = torch.load(path)\n",
        "  model.load_state_dict(checkpoint['model_state_dict']) #checkpoint loading the saved state of the model\n",
        "  optimizer.load_state_dict(checkpoint['optimizer_state_dict']) #checkpoint loading the saved state of the optimizer\n",
        "  return model\n",
        "model = load_model(\"/content/drive/My Drive/VP/classifier.pt\") # loading the model"
      ]
    },
    {
      "cell_type": "markdown",
      "metadata": {
        "id": "VlCQK8y14FKt"
      },
      "source": [
        "## Training on Training and Validation Set"
      ]
    },
    {
      "cell_type": "code",
      "execution_count": null,
      "metadata": {
        "id": "T52JrEMKVT_-"
      },
      "outputs": [],
      "source": [
        "num_epochs = 10   #number of epochs\n",
        "train_loss , validation_loss, acc, f1_s_array = [] , [], [], [] \n",
        "valid_loss_min = np.Inf \n",
        "t1 = time.perf_counter() # to quantify training time\n",
        "\n",
        "\n",
        "model.train()\n",
        "print(\"Model Training started.....\")\n",
        "\n",
        "for epoch in range(num_epochs):\n",
        "  current_loss = 0\n",
        "  batch = 0\n",
        "  f1_s_list =  []  # to compute f1-score\n",
        "\n",
        "  for images,labels in train_loader:\n",
        "    images,labels = images.to(device), labels.to(device)\n",
        "\n",
        "    outputs = model(images) #forward\n",
        "    f1_s = f1_score(np.array(labels.to('cpu')),np.array(torch.argmax(outputs, dim = 1).to('cpu')), labels = list(range(5)),average = 'macro', zero_division = 0) #f1 score macro considers each class equally, micro is weighted according to the weight\n",
        "    print(f1_s)\n",
        "    f1_s_list.append(f1_s)\n",
        "    loss = criterion(outputs,labels)\n",
        "    optimizer.zero_grad()\n",
        "\n",
        "    loss.backward() #backward\n",
        "    optimizer.step()\n",
        "\n",
        "    current_loss += loss.item()\n",
        "    batch += 1\n",
        "\n",
        "    if batch % 10 == 0:  \n",
        "     print(f\" epoch {epoch + 1} batch {batch} completed\") \n",
        "\n",
        "  valid_l = 0\n",
        "  accuracy = 0\n",
        "  F1_Score = 0\n",
        "\n",
        "  print('Training f1-score is {:.10f}:'.format(sum(f1_s_list)/len(f1_s_list)))\n",
        "\n",
        "  # evaluation on validation set\n",
        "  with torch.no_grad():\n",
        "      f1_s_valid = []\n",
        "      print(f\"validation started for {epoch + 1}\")\n",
        "      model.eval() \n",
        "\n",
        "      for images,labels in valid_loader:\n",
        "          images,labels = images.to(device), labels.to(device)\n",
        "\n",
        "          log_output_val = model(images)\n",
        "          f1_s = f1_score(np.array(labels.to('cpu')),np.array(torch.argmax(log_output_val, dim = 1).to('cpu')), labels = list(range(5)),average = 'macro', zero_division = 0) #f1 score macro cosndiers each class equally, micro is weighted according to the weight\n",
        "          print(f1_s)\n",
        "          f1_s_valid.append(f1_s) \n",
        "          valid_l += criterion(log_output_val,labels) #validation loss\n",
        "          output_val = torch.exp(log_output_val)\n",
        "          top_output , top_output_class = output_val.topk(1,dim=1)\n",
        "          n_corrects = (top_output_class == labels.view(*top_output_class.shape))\n",
        "\n",
        "          accuracy += torch.mean(n_corrects.type(torch.FloatTensor))\n",
        "\n",
        "  print('Validation f1-score is {:.10f}:'.format(sum(f1_s_valid)/len(f1_s_valid)))\n",
        "\n",
        "  # to plot f1 and accuracy values wrt the number of epochs\n",
        "  x = sum(f1_s_valid)/len(f1_s_valid)\n",
        "  f1_s_array.append(x) \n",
        "  train_loss.append(current_loss/len(train_loader))\n",
        "  validation_loss.append(valid_l/len(valid_loader))\n",
        "  acc.append(accuracy//len(valid_loader))\n",
        "\n",
        "  scheduler.step()\n",
        "\n",
        "  print(\"Epoch: {}/{}.. \".format(epoch+1, num_epochs),\"Training Loss: {:.3f}.. \".format(current_loss/len(train_loader)),\"Valid Loss: {:.3f}.. \".format(valid_l/len(valid_loader)),\n",
        "        \"Valid Accuracy: {:.3f}\".format(accuracy/len(valid_loader)))\n",
        "  \n",
        " #the training loop will restart\n",
        "  model.train() \n",
        "\n",
        " # if we have an improvement we save the parameters of the model\n",
        "\n",
        "  if valid_l/len(valid_loader) <= valid_loss_min:\n",
        "        print('Validation loss decreased ({:.6f} --> {:.6f}).  Saving model ...'.format(valid_loss_min,valid_l/len(valid_loader))) \n",
        "        torch.save({\n",
        "            'epoch': epoch,\n",
        "            'model': model,\n",
        "            'model_state_dict': model.state_dict(),\n",
        "            'optimizer_state_dict': optimizer.state_dict(),\n",
        "            'loss': valid_loss_min\n",
        "            }, path)\n",
        "        valid_loss_min = valid_l/len(valid_loader)  \n",
        "  # priniting time needed to train and evaluate       \n",
        "  t2 = time.perf_counter()\n",
        "  print('time taken to run:',t2-t1)\n",
        "  #completed training\n",
        "  print('Training Completed Succesfully !')    \n",
        "\n",
        "# Save the model as a pickle in a file\n",
        "joblib.dump(model, '/content/drive/MyDrive/VP/model.pkl') #useful for future retraining\n",
        "  \n",
        "\n"
      ]
    },
    {
      "cell_type": "markdown",
      "metadata": {
        "id": "UgzzwMBmNZDM"
      },
      "source": [
        "### Plotting accuracy and f1-score"
      ]
    },
    {
      "cell_type": "code",
      "execution_count": null,
      "metadata": {
        "id": "vRUA0eUCeex1"
      },
      "outputs": [],
      "source": [
        "# wrt the number of training epochs\n",
        "\n",
        "%matplotlib inline\n",
        "%config InlineBackend.figure_format = 'retina'\n",
        "\n",
        "plt.xlim([1, 10])\n",
        "plt.ylim([0, 1])\n",
        "plt.plot(acc, label='accuracy')\n",
        "plt.plot(f1_s_array, label='f1-score')\n",
        "plt.legend(\"\")\n",
        "plt.xlabel(\"Epochs\") #x: number of epochs\n",
        "plt.legend(frameon=False)\n"
      ]
    },
    {
      "cell_type": "markdown",
      "metadata": {
        "id": "jwEDdmyB4rnh"
      },
      "source": [
        "## Training on Training and Validation sets + Test scores"
      ]
    },
    {
      "cell_type": "code",
      "execution_count": null,
      "metadata": {
        "id": "FIfy4oCNBQvK"
      },
      "outputs": [],
      "source": [
        "# unifying training and validation sets\n",
        "\n",
        "train_idx = indices[split1:]\n",
        "train_sampler = SubsetRandomSampler(train_idx)\n",
        "train_loader = torch.utils.data.DataLoader(train_dataset, batch_size = batch_size, sampler = train_sampler, shuffle=False)"
      ]
    },
    {
      "cell_type": "code",
      "execution_count": null,
      "metadata": {
        "id": "_j6STt8h4uwt"
      },
      "outputs": [],
      "source": [
        "# retraining on the new training set and evaluating on test set\n",
        "num_epochs = 9\n",
        "train_loss , test_loss, acc = [] , [], []\n",
        "test_loss_min = np.Inf \n",
        "t1 = time.perf_counter()\n",
        "f1_array = []\n",
        "\n",
        "\n",
        "# Load the model from the file\n",
        "#model = joblib.load('/content/drive/MyDrive/VP/model.pkl') \n",
        "  \n",
        "model.train()\n",
        "print(\"Model Training started.....\")\n",
        "\n",
        "for epoch in range(num_epochs):\n",
        "  current_loss = 0\n",
        "  batch = 0\n",
        "  f1_s_list =  []\n",
        "\n",
        "  for images,labels in train_loader:\n",
        "    images,labels = images.to(device), labels.to(device)\n",
        "    outputs = model(images) #forward\n",
        "\n",
        "    f1_s = f1_score(np.array(labels.to('cpu')),np.array(torch.argmax(outputs, dim = 1).to('cpu')), labels = list(range(5)),average = 'macro', zero_division = 0) #f1 score macro cosndiers each class equally, micro is weighted according to the weight\n",
        "    f1_s_list.append(f1_s)\n",
        "    loss = criterion(outputs,labels)\n",
        "    optimizer.zero_grad()\n",
        "\n",
        "    loss.backward() #backward\n",
        "    optimizer.step()\n",
        "\n",
        "    current_loss += loss.item()\n",
        "    batch += 1\n",
        "\n",
        "    if batch % 10 == 0:\n",
        "     print(f\" epoch {epoch + 1} batch {batch} completed\") \n",
        "\n",
        "  test_l = 0\n",
        "  accuracy = 0\n",
        "  F1_Score = 0\n",
        "\n",
        "  print('Training f1-score is {:.10f}:'.format(sum(f1_s_list)/len(f1_s_list)))\n",
        "\n",
        "# evaluating on test set\n",
        "  with torch.no_grad():\n",
        "      f1_s_test = []\n",
        "      print(f\"test started for {epoch + 1}\")\n",
        "      model.eval() \n",
        "\n",
        "      for images,labels in test_loader:\n",
        "          images,labels = images.to(device), labels.to(device)\n",
        "\n",
        "          log_output_val = model(images)\n",
        "          f1_s = f1_score(np.array(labels.to('cpu')),np.array(torch.argmax(log_output_val, dim = 1).to('cpu')), labels = list(range(5)),average = 'macro', zero_division = 0) #f1 score macro cosndiers each class equally, micro is weighted according to the weight\n",
        "          print(f1_s)\n",
        "          f1_s_test.append(f1_s) \n",
        "          test_l += criterion(log_output_val,labels) \n",
        "          output_val = torch.exp(log_output_val)\n",
        "          top_output , top_output_class = output_val.topk(1,dim=1)\n",
        "          n_corrects = (top_output_class == labels.view(*top_output_class.shape))\n",
        "\n",
        "          accuracy += torch.mean(n_corrects.type(torch.FloatTensor))\n",
        "\n",
        "  print('Test f1-score is {:.10f}:'.format(sum(f1_s_test)/len(f1_s_test)))\n",
        "\n",
        "  # to plot the scores\n",
        "  f1_array.append(sum(f1_s_test)/len(f1_s_test))\n",
        "  test_loss.append(test_l/len(valid_loader))\n",
        "  acc.append(accuracy/len(test_loader))\n",
        "\n",
        "  scheduler.step()\n",
        "\n",
        "  print(\"Epoch: {}/{}.. \".format(epoch+1, num_epochs),\"Training Loss: {:.3f}.. \".format(current_loss/len(train_loader)),\"Test Loss: {:.3f}.. \".format(test_l/len(test_loader)),\n",
        "        \"Test Accuracy: {:.3f}\".format(accuracy/len(test_loader)))\n",
        "      \n",
        "  model.train() \n",
        "\n",
        "  # if we have an improvement we save the parameters of the model\n",
        "  \n",
        "  if test_l/len(test_loader) <= test_loss_min:\n",
        "        print('Test loss decreased ({:.6f} --> {:.6f}).  Saving model ...'.format(test_loss_min,test_l/len(test_loader))) \n",
        "        torch.save({\n",
        "            'epoch': epoch,\n",
        "            'model': model,\n",
        "            'model_state_dict': model.state_dict(),\n",
        "            'optimizer_state_dict': optimizer.state_dict(),\n",
        "            'loss': test_loss_min\n",
        "            }, path)\n",
        "        test_loss_min = test_l/len(test_loader)   \n",
        "  # to print time       \n",
        "  t2 = time.perf_counter()\n",
        "  print('time taken to run:',t2-t1)\n",
        "  #completed training and evaluation\n",
        "  print('Training Completed Succesfully !')   \n",
        "\n",
        "# Save the model as a pickle in a file\n",
        "joblib.dump(model, '/content/drive/MyDrive/VP/model.pkl') \n"
      ]
    },
    {
      "cell_type": "markdown",
      "source": [
        "## Εvaluation on Test set"
      ],
      "metadata": {
        "id": "y61DClPeR63h"
      }
    },
    {
      "cell_type": "code",
      "source": [
        "# we just evaluate our model on test set, NO TRAINING\n",
        "\n",
        "num_epochs = 10\n",
        "train_loss , test_loss, acc = [] , [], []\n",
        "test_loss_min = np.Inf \n",
        "f1_array = []\n",
        "\n",
        "for epoch in range(num_epochs):\n",
        "  current_loss = 0\n",
        "  batch = 0\n",
        "  f1_s_list =  []\n",
        "  test_l = 0\n",
        "  accuracy = 0\n",
        "  F1_Score = 0\n",
        "  with torch.no_grad():\n",
        "      f1_s_test = []\n",
        "      print(f\"test started for {epoch + 1}\")\n",
        "      model.eval() \n",
        "\n",
        "      for images,labels in test_loader:\n",
        "          images,labels = images.to(device), labels.to(device)\n",
        "\n",
        "          log_output_val = model(images)\n",
        "          f1_s = f1_score(np.array(labels.to('cpu')),np.array(torch.argmax(log_output_val, dim = 1).to('cpu')), labels = list(range(5)),average = 'macro', zero_division = 0) #f1 score macro cosndiers each class equally, micro is weighted according to the weight\n",
        "          f1_s_test.append(f1_s) \n",
        "          test_l += criterion(log_output_val,labels) \n",
        "          output_val = torch.exp(log_output_val)\n",
        "          top_output , top_output_class = output_val.topk(1,dim=1)\n",
        "          n_corrects = (top_output_class == labels.view(*top_output_class.shape))\n",
        "\n",
        "          accuracy += torch.mean(n_corrects.type(torch.FloatTensor))\n",
        "          \n",
        "  print('Test f1-score is {:.10f}:'.format(sum(f1_s_test)/len(f1_s_test)))\n",
        "  f1_array.append(sum(f1_s_test)/len(f1_s_test))\n",
        "  test_loss.append(test_l/len(valid_loader))\n",
        "  acc.append(accuracy/len(test_loader))\n",
        "  print(\"Epoch: {}/{}.. \".format(epoch+1, num_epochs),\"Test Accuracy: {:.3f}\".format(accuracy/len(test_loader)))"
      ],
      "metadata": {
        "colab": {
          "base_uri": "https://localhost:8080/"
        },
        "id": "-ZXtmIlcR5_z",
        "outputId": "40557dbc-a209-41f9-99d6-4c8581907614"
      },
      "execution_count": null,
      "outputs": [
        {
          "output_type": "stream",
          "name": "stdout",
          "text": [
            "test started for 1\n",
            "1.0\n",
            "0.9728997289972898\n",
            "0.9512820512820512\n",
            "1.0\n",
            "1.0\n",
            "0.9268817204301076\n",
            "0.7555555555555555\n",
            "0.9547619047619047\n",
            "0.9535483870967741\n",
            "0.9600989097448579\n",
            "1.0\n",
            "0.7623931623931623\n",
            "Test f1-score is 0.9364517850:\n",
            "Epoch: 1/10..  Test Accuracy: 0.983\n",
            "test started for 2\n",
            "1.0\n",
            "0.974921630094044\n",
            "0.9331070889894418\n",
            "0.9660130718954247\n",
            "0.93289972899729\n",
            "0.8\n",
            "0.7458103803013207\n",
            "0.9883636363636363\n",
            "0.7623792270531401\n",
            "0.7193798449612403\n",
            "0.9649769585253456\n",
            "0.8\n",
            "Test f1-score is 0.8823209639:\n",
            "Epoch: 2/10..  Test Accuracy: 0.975\n",
            "test started for 3\n",
            "0.8740890688259109\n",
            "0.7625396825396825\n",
            "1.0\n",
            "1.0\n",
            "1.0\n",
            "1.0\n",
            "0.9507936507936507\n",
            "1.0\n",
            "0.98110661268556\n",
            "0.9400982093242156\n",
            "0.9223376623376623\n",
            "1.0\n",
            "Test f1-score is 0.9525804072:\n",
            "Epoch: 3/10..  Test Accuracy: 0.983\n",
            "test started for 4\n",
            "0.981338742393509\n",
            "0.9333333333333332\n",
            "1.0\n",
            "0.8\n",
            "0.9405027156751296\n",
            "0.8857142857142858\n",
            "0.8799999999999999\n",
            "1.0\n",
            "0.9504761904761905\n",
            "0.9876679841897232\n",
            "0.9703703703703704\n",
            "0.9418181818181818\n",
            "Test f1-score is 0.9392684837:\n",
            "Epoch: 4/10..  Test Accuracy: 0.980\n",
            "test started for 5\n",
            "0.9723723723723724\n",
            "1.0\n",
            "0.9697777777777778\n",
            "1.0\n",
            "1.0\n",
            "0.9788331071913161\n",
            "1.0\n",
            "0.9813366960907945\n",
            "0.7808278867102396\n",
            "1.0\n",
            "0.7453658536585366\n",
            "1.0\n",
            "Test f1-score is 0.9523761412:\n",
            "Epoch: 5/10..  Test Accuracy: 0.990\n",
            "test started for 6\n",
            "0.9595959595959596\n",
            "0.986031746031746\n",
            "0.9112087912087912\n",
            "0.9554477469541602\n",
            "0.9546688605512135\n",
            "0.9534340056079186\n",
            "0.9094736842105263\n",
            "0.8946153846153846\n",
            "0.9750915750915752\n",
            "0.9640211640211639\n",
            "1.0\n",
            "0.8\n",
            "Test f1-score is 0.9386324098:\n",
            "Epoch: 6/10..  Test Accuracy: 0.979\n",
            "test started for 7\n",
            "0.9057233178577568\n",
            "0.9653679653679653\n",
            "0.9301587301587301\n",
            "1.0\n",
            "0.9237362637362638\n",
            "1.0\n",
            "1.0\n",
            "0.9712918660287082\n",
            "1.0\n",
            "0.9334277017859106\n",
            "0.8984417892761923\n",
            "0.8\n",
            "Test f1-score is 0.9440123029:\n",
            "Epoch: 7/10..  Test Accuracy: 0.980\n",
            "test started for 8\n",
            "1.0\n",
            "0.9522150537634408\n",
            "0.9566666666666667\n",
            "0.966023166023166\n",
            "0.94400784104072\n",
            "0.9303296703296702\n",
            "0.9293237660360948\n",
            "0.911349765258216\n",
            "1.0\n",
            "0.9007467532467534\n",
            "0.9595959595959596\n",
            "1.0\n",
            "Test f1-score is 0.9541882202:\n",
            "Epoch: 8/10..  Test Accuracy: 0.977\n",
            "test started for 9\n",
            "0.9146719946719948\n",
            "0.9196638655462184\n",
            "0.7923809523809524\n",
            "0.7554761904761904\n",
            "0.9523809523809523\n",
            "1.0\n",
            "0.9720634920634922\n",
            "0.9428571428571428\n",
            "0.9766899766899767\n",
            "0.9506332099273276\n",
            "0.7837593984962405\n",
            "1.0\n",
            "Test f1-score is 0.9133814313:\n",
            "Epoch: 9/10..  Test Accuracy: 0.978\n",
            "test started for 10\n",
            "0.9718954248366014\n",
            "0.9330900845186558\n",
            "0.9854183927091963\n",
            "0.9468599033816426\n",
            "0.9717171717171718\n",
            "1.0\n",
            "0.974921630094044\n",
            "0.7818181818181819\n",
            "0.9825210084033614\n",
            "1.0\n",
            "1.0\n",
            "0.5494736842105263\n",
            "Test f1-score is 0.9248096235:\n",
            "Epoch: 10/10..  Test Accuracy: 0.978\n"
          ]
        }
      ]
    },
    {
      "cell_type": "markdown",
      "source": [
        "### Plotting accuracy and F1-Score on Test set"
      ],
      "metadata": {
        "id": "Bn2TfYXjU_G_"
      }
    },
    {
      "cell_type": "code",
      "execution_count": null,
      "metadata": {
        "colab": {
          "base_uri": "https://localhost:8080/",
          "height": 319
        },
        "id": "Ia10BC8k9emy",
        "outputId": "0e20cf29-e6e8-4556-fb29-b568c8443f16"
      },
      "outputs": [
        {
          "output_type": "execute_result",
          "data": {
            "text/plain": [
              "<matplotlib.legend.Legend at 0x7f52b02e8e50>"
            ]
          },
          "metadata": {},
          "execution_count": 22
        },
        {
          "output_type": "display_data",
          "data": {
            "text/plain": [
              "<Figure size 432x288 with 1 Axes>"
            ],
            "image/png": "[encoded data removed]"
          },
          "metadata": {
            "image/png": {
              "width": 392,
              "height": 265
            },
            "needs_background": "light"
          }
        }
      ],
      "source": [
        "%matplotlib inline\n",
        "%config InlineBackend.figure_format = 'retina'\n",
        "\n",
        "plt.plot(f1_array, label='Test F1')\n",
        "plt.plot(acc, label='accuracy')\n",
        "plt.xlim([1, 10])\n",
        "plt.ylim([0, 1])\n",
        "plt.legend(\"\")\n",
        "plt.xlabel(\"Epochs\") #x: number of epochs\n",
        "plt.legend(frameon=False)"
      ]
    }
  ],
  "metadata": {
    "accelerator": "GPU",
    "colab": {
      "collapsed_sections": [
        "p78922aP1e_7",
        "vZLhWfQQ2mHI",
        "Vbs9kAFa2tOS"
      ],
      "provenance": []
    },
    "gpuClass": "standard",
    "kernelspec": {
      "display_name": "Python 3",
      "name": "python3"
    },
    "language_info": {
      "name": "python"
    }
  },
  "nbformat": 4,
  "nbformat_minor": 0
}